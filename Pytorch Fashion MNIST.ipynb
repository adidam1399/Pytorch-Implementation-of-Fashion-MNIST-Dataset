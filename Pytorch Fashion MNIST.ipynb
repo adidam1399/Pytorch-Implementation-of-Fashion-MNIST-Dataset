{
  "nbformat": 4,
  "nbformat_minor": 0,
  "metadata": {
    "colab": {
      "name": "EE-51 HW-5 Q-2.ipynb",
      "provenance": [],
      "collapsed_sections": []
    },
    "kernelspec": {
      "name": "python3",
      "display_name": "Python 3"
    },
    "language_info": {
      "name": "python"
    },
    "accelerator": "GPU"
  },
  "cells": [
    {
      "cell_type": "code",
      "execution_count": 1,
      "metadata": {
        "id": "vNG7QaikkRMk"
      },
      "outputs": [],
      "source": [
        "import torch\n",
        "import torch.nn as nn\n",
        "import torchvision\n",
        "import torchvision.transforms as transforms\n",
        "import torch.nn.functional as F\n",
        "import numpy as np\n",
        "import matplotlib.pyplot as plt\n",
        "from sklearn import metrics\n",
        "import seaborn as sns"
      ]
    },
    {
      "cell_type": "markdown",
      "source": [
        "Extracting the data"
      ],
      "metadata": {
        "id": "UI4bQgCMkWYY"
      }
    },
    {
      "cell_type": "code",
      "source": [
        "training_set=torchvision.datasets.FashionMNIST(root=\"./data\",train=True,download=True,\n",
        "                                          transform=transforms.ToTensor())\n",
        "testing_set=torchvision.datasets.FashionMNIST(root=\"./data\",train=False,download=True,\n",
        "                                          transform=transforms.ToTensor())"
      ],
      "metadata": {
        "id": "SDXHsDzTkgbI"
      },
      "execution_count": 2,
      "outputs": []
    },
    {
      "cell_type": "code",
      "source": [
        "train_loader=torch.utils.data.DataLoader(training_set,batch_size=100,shuffle=True\n",
        "                                         ,num_workers=2,pin_memory=True,\n",
        "                                         drop_last=True)\n",
        "test_loader=torch.utils.data.DataLoader(testing_set,batch_size=100,shuffle=False)"
      ],
      "metadata": {
        "id": "YLua9eNkmy3y"
      },
      "execution_count": 3,
      "outputs": []
    },
    {
      "cell_type": "markdown",
      "source": [
        "Part 1- Model 1 for Fashion MNIST"
      ],
      "metadata": {
        "id": "wSaLZu-PkxsP"
      }
    },
    {
      "cell_type": "code",
      "source": [
        "num_of_pixels=28*28\n",
        "dropout=nn.Dropout(0.2)"
      ],
      "metadata": {
        "id": "3GW3YlQcl-Ar"
      },
      "execution_count": 4,
      "outputs": []
    },
    {
      "cell_type": "markdown",
      "source": [
        "Defining a modular neural network"
      ],
      "metadata": {
        "id": "Jz1y4adekuJL"
      }
    },
    {
      "cell_type": "code",
      "source": [
        "model=torch.nn.Sequential(\n",
        "    nn.Linear(num_of_pixels,128),\n",
        "    nn.ReLU(),\n",
        "    nn.Linear(128,10),\n",
        "    nn.Softmax(dim=1)\n",
        ")"
      ],
      "metadata": {
        "id": "jsuiDeeLvunR"
      },
      "execution_count": 50,
      "outputs": []
    },
    {
      "cell_type": "code",
      "source": [
        "loss_function=nn.CrossEntropyLoss()\n",
        "optimizer=torch.optim.Adam(model.parameters(),lr=0.001)"
      ],
      "metadata": {
        "id": "rzmEnDPomPx6"
      },
      "execution_count": 51,
      "outputs": []
    },
    {
      "cell_type": "code",
      "source": [
        "num_of_epochs=40\n",
        "count=0\n",
        "for epoch in range(num_of_epochs):\n",
        "  correct=0\n",
        "  for images, labels in train_loader:\n",
        "    count+=1\n",
        "    input_image=images.view(-1,num_of_pixels)\n",
        "    outputs=model(input_image)\n",
        "    loss=loss_function(outputs,labels)\n",
        "    # Back prop\n",
        "    optimizer.zero_grad()\n",
        "    loss.backward()\n",
        "    # Update weights (optimize)\n",
        "    optimizer.step()\n",
        "    # Evaluating the performance\n",
        "    predictions=torch.max(outputs,1)[1]\n",
        "    correct+=(predictions==labels).sum().numpy()\n",
        "\n",
        "  print(\"Epoch is: {0}, Loss is {1} and Accuracy is: {2}\".format(epoch+1,loss.data,100*correct/len(train_loader.dataset)))\n",
        "\n",
        "print(\"Finished Training\")"
      ],
      "metadata": {
        "colab": {
          "base_uri": "https://localhost:8080/"
        },
        "id": "P2Of3XDkmXz8",
        "outputId": "fffdc19c-5dee-4b33-bacb-2a4b1ee2d41a"
      },
      "execution_count": 53,
      "outputs": [
        {
          "output_type": "stream",
          "name": "stdout",
          "text": [
            "Epoch is: 1, Loss is 1.6099271774291992 and Accuracy is: 84.6\n",
            "Epoch is: 2, Loss is 1.6173672676086426 and Accuracy is: 85.33666666666667\n",
            "Epoch is: 3, Loss is 1.5985782146453857 and Accuracy is: 86.00333333333333\n",
            "Epoch is: 4, Loss is 1.6124076843261719 and Accuracy is: 86.49\n",
            "Epoch is: 5, Loss is 1.6006100177764893 and Accuracy is: 86.755\n",
            "Epoch is: 6, Loss is 1.5328667163848877 and Accuracy is: 87.05666666666667\n",
            "Epoch is: 7, Loss is 1.6240676641464233 and Accuracy is: 87.35166666666667\n",
            "Epoch is: 8, Loss is 1.565992832183838 and Accuracy is: 87.43666666666667\n",
            "Epoch is: 9, Loss is 1.5625548362731934 and Accuracy is: 87.89\n",
            "Epoch is: 10, Loss is 1.5711028575897217 and Accuracy is: 88.1\n",
            "Epoch is: 11, Loss is 1.575728178024292 and Accuracy is: 88.28166666666667\n",
            "Epoch is: 12, Loss is 1.5774469375610352 and Accuracy is: 88.43166666666667\n",
            "Epoch is: 13, Loss is 1.5671197175979614 and Accuracy is: 88.765\n",
            "Epoch is: 14, Loss is 1.580268144607544 and Accuracy is: 88.94333333333333\n",
            "Epoch is: 15, Loss is 1.5189743041992188 and Accuracy is: 89.005\n",
            "Epoch is: 16, Loss is 1.5634340047836304 and Accuracy is: 89.19\n",
            "Epoch is: 17, Loss is 1.5480648279190063 and Accuracy is: 89.39333333333333\n",
            "Epoch is: 18, Loss is 1.595658302307129 and Accuracy is: 89.40333333333334\n",
            "Epoch is: 19, Loss is 1.5387206077575684 and Accuracy is: 89.635\n",
            "Epoch is: 20, Loss is 1.537266731262207 and Accuracy is: 89.77666666666667\n",
            "Epoch is: 21, Loss is 1.5446040630340576 and Accuracy is: 89.715\n",
            "Epoch is: 22, Loss is 1.562496304512024 and Accuracy is: 90.01\n",
            "Epoch is: 23, Loss is 1.572181224822998 and Accuracy is: 90.22833333333334\n",
            "Epoch is: 24, Loss is 1.5705369710922241 and Accuracy is: 90.18833333333333\n",
            "Epoch is: 25, Loss is 1.5453991889953613 and Accuracy is: 90.41666666666667\n",
            "Epoch is: 26, Loss is 1.525559425354004 and Accuracy is: 90.45333333333333\n",
            "Epoch is: 27, Loss is 1.560396671295166 and Accuracy is: 90.48166666666667\n",
            "Epoch is: 28, Loss is 1.6229884624481201 and Accuracy is: 90.54\n",
            "Epoch is: 29, Loss is 1.5949560403823853 and Accuracy is: 90.73333333333333\n",
            "Epoch is: 30, Loss is 1.529233455657959 and Accuracy is: 90.93333333333334\n",
            "Epoch is: 31, Loss is 1.5344449281692505 and Accuracy is: 90.82333333333334\n",
            "Epoch is: 32, Loss is 1.5348823070526123 and Accuracy is: 90.89\n",
            "Epoch is: 33, Loss is 1.559533715248108 and Accuracy is: 91.09166666666667\n",
            "Epoch is: 34, Loss is 1.565522313117981 and Accuracy is: 90.985\n",
            "Epoch is: 35, Loss is 1.5387701988220215 and Accuracy is: 91.245\n",
            "Epoch is: 36, Loss is 1.494132399559021 and Accuracy is: 91.26666666666667\n",
            "Epoch is: 37, Loss is 1.5919097661972046 and Accuracy is: 91.27333333333333\n",
            "Epoch is: 38, Loss is 1.5494693517684937 and Accuracy is: 91.40166666666667\n",
            "Epoch is: 39, Loss is 1.5899258852005005 and Accuracy is: 91.52333333333333\n",
            "Epoch is: 40, Loss is 1.534166693687439 and Accuracy is: 91.46333333333334\n",
            "Finished Training\n"
          ]
        }
      ]
    },
    {
      "cell_type": "code",
      "source": [
        "for name, param in model.named_parameters():\n",
        "  print(name)"
      ],
      "metadata": {
        "colab": {
          "base_uri": "https://localhost:8080/"
        },
        "id": "XmsIsXWTz9II",
        "outputId": "6c4eba44-f15d-42a2-b3e7-99cf5b5b6579"
      },
      "execution_count": 81,
      "outputs": [
        {
          "output_type": "stream",
          "name": "stdout",
          "text": [
            "0.weight\n",
            "0.bias\n",
            "2.weight\n",
            "2.bias\n"
          ]
        }
      ]
    },
    {
      "cell_type": "markdown",
      "source": [
        "Producing histogram of weights for the input layer for network 1\n",
        "\n",
        "\n"
      ],
      "metadata": {
        "id": "VFIC-81cpbv7"
      }
    },
    {
      "cell_type": "code",
      "source": [
        "w_input = []\n",
        "w_hidden = []\n",
        "with torch.no_grad():\n",
        "  for name, param in model.named_parameters():\n",
        "    # Weights for input layer\n",
        "    if name==\"0.weight\":\n",
        "      w_input.append(param.view(-1).detach().numpy())\n",
        "    # Weights for hidden layer\n",
        "    if name==\"2.weight\":\n",
        "      w_hidden.append(param.view(-1).detach().numpy())\n",
        "\n",
        "#Weights of Input Layer\n",
        "plt.hist(w_input)\n",
        "plt.title('Histogram of Weights for the Input Layer of network 1')\n",
        "plt.ylabel('frequency')\n",
        "plt.xlabel('weight value')\n",
        "plt.show()\n"
      ],
      "metadata": {
        "colab": {
          "base_uri": "https://localhost:8080/",
          "height": 295
        },
        "id": "o9a-mvFH4-H6",
        "outputId": "213f52be-8e10-407b-a7b8-b08dd2482c85"
      },
      "execution_count": 156,
      "outputs": [
        {
          "output_type": "display_data",
          "data": {
            "text/plain": [
              "<Figure size 432x288 with 1 Axes>"
            ],
            "image/png": "[encoded data removed]"
          },
          "metadata": {
            "needs_background": "light"
          }
        }
      ]
    },
    {
      "cell_type": "markdown",
      "source": [
        "Producing histogram of weights for the hidden layer for network 1\n"
      ],
      "metadata": {
        "id": "HNiqhY5w1f8c"
      }
    },
    {
      "cell_type": "code",
      "source": [
        "plt.hist(w_hidden)\n",
        "plt.title('Histogram of Weights for the hidden Layer of network 1')\n",
        "plt.ylabel('frequency')\n",
        "plt.xlabel('weight value')\n",
        "plt.show()"
      ],
      "metadata": {
        "colab": {
          "base_uri": "https://localhost:8080/",
          "height": 295
        },
        "id": "Bc_Z3onD1hSl",
        "outputId": "2bc216c1-68fc-4a53-ec81-6c2ea8c109c9"
      },
      "execution_count": 157,
      "outputs": [
        {
          "output_type": "display_data",
          "data": {
            "text/plain": [
              "<Figure size 432x288 with 1 Axes>"
            ],
            "image/png": "[encoded data removed]"
          },
          "metadata": {
            "needs_background": "light"
          }
        }
      ]
    },
    {
      "cell_type": "markdown",
      "source": [
        "Part 2-Second model for Fashion MNIST"
      ],
      "metadata": {
        "id": "HTJMmKVNrrhd"
      }
    },
    {
      "cell_type": "code",
      "source": [
        "class Neural_Net_2(nn.Module):\n",
        "  def __init__(self):\n",
        "    super(Neural_Net_2,self).__init__()\n",
        "    self.hidden=nn.Linear(num_of_pixels,48)\n",
        "    self.output=nn.Linear(48,10)\n",
        "\n",
        "  def forward(self,x):\n",
        "    x=F.relu(self.hidden(x))\n",
        "    x=dropout(x)\n",
        "    x=F.softmax(self.output(x))\n",
        "    return x\n",
        "\n",
        "model_2=Neural_Net_2()"
      ],
      "metadata": {
        "id": "dABIm78Vrv-_"
      },
      "execution_count": 21,
      "outputs": []
    },
    {
      "cell_type": "code",
      "source": [
        "loss_function=nn.CrossEntropyLoss()\n",
        "optimizer_2=torch.optim.Adam(model_2.parameters(),lr=0.001,weight_decay=0.0001)"
      ],
      "metadata": {
        "id": "fBtrI5DHsFgS"
      },
      "execution_count": 26,
      "outputs": []
    },
    {
      "cell_type": "code",
      "source": [
        "num_of_epochs=40\n",
        "count=0\n",
        "for epoch in range(num_of_epochs):\n",
        "  correct=0\n",
        "  for images, labels in train_loader:\n",
        "    count+=1\n",
        "    input_image=images.view(-1,num_of_pixels)\n",
        "    outputs=model_2(input_image)\n",
        "    loss=loss_function(outputs,labels)\n",
        "    # Back prop\n",
        "    optimizer_2.zero_grad()\n",
        "    loss.backward()\n",
        "    # Update weights (optimize)\n",
        "    optimizer_2.step()\n",
        "    # Evaluating the performance\n",
        "    predictions=torch.max(outputs,1)[1]\n",
        "    correct+=(predictions==labels).sum().numpy()\n",
        "\n",
        "  print(\"Epoch is: {0}, Loss is {1} and Accuracy is: {2}\".format(epoch+1,loss.data,100*correct/len(train_loader.dataset)))\n",
        "\n",
        "print(\"Finished Training\")"
      ],
      "metadata": {
        "colab": {
          "base_uri": "https://localhost:8080/"
        },
        "id": "OJ6XuhJ4sUb8",
        "outputId": "7635b48e-ba5c-4ee7-be70-c1bde9b0181d"
      },
      "execution_count": 27,
      "outputs": [
        {
          "output_type": "stream",
          "name": "stderr",
          "text": [
            "/usr/local/lib/python3.7/dist-packages/ipykernel_launcher.py:10: UserWarning: Implicit dimension choice for softmax has been deprecated. Change the call to include dim=X as an argument.\n",
            "  # Remove the CWD from sys.path while we load stuff.\n"
          ]
        },
        {
          "output_type": "stream",
          "name": "stdout",
          "text": [
            "Epoch is: 1, Loss is 1.6507736444473267 and Accuracy is: 72.96666666666667\n",
            "Epoch is: 2, Loss is 1.658246636390686 and Accuracy is: 81.28166666666667\n",
            "Epoch is: 3, Loss is 1.679571270942688 and Accuracy is: 83.16666666666667\n",
            "Epoch is: 4, Loss is 1.5997868776321411 and Accuracy is: 84.16166666666666\n",
            "Epoch is: 5, Loss is 1.5870060920715332 and Accuracy is: 84.525\n",
            "Epoch is: 6, Loss is 1.6147762537002563 and Accuracy is: 85.025\n",
            "Epoch is: 7, Loss is 1.6395553350448608 and Accuracy is: 85.20666666666666\n",
            "Epoch is: 8, Loss is 1.6458582878112793 and Accuracy is: 85.51\n",
            "Epoch is: 9, Loss is 1.5585694313049316 and Accuracy is: 85.66166666666666\n",
            "Epoch is: 10, Loss is 1.5993995666503906 and Accuracy is: 85.885\n",
            "Epoch is: 11, Loss is 1.5850841999053955 and Accuracy is: 86.11666666666666\n",
            "Epoch is: 12, Loss is 1.6215792894363403 and Accuracy is: 86.11333333333333\n",
            "Epoch is: 13, Loss is 1.6135560274124146 and Accuracy is: 86.28666666666666\n",
            "Epoch is: 14, Loss is 1.5911805629730225 and Accuracy is: 86.32833333333333\n",
            "Epoch is: 15, Loss is 1.6217097043991089 and Accuracy is: 86.44166666666666\n",
            "Epoch is: 16, Loss is 1.6926302909851074 and Accuracy is: 86.63833333333334\n",
            "Epoch is: 17, Loss is 1.6143736839294434 and Accuracy is: 86.75833333333334\n",
            "Epoch is: 18, Loss is 1.5966813564300537 and Accuracy is: 86.73333333333333\n",
            "Epoch is: 19, Loss is 1.6243560314178467 and Accuracy is: 86.81833333333333\n",
            "Epoch is: 20, Loss is 1.5427100658416748 and Accuracy is: 86.865\n",
            "Epoch is: 21, Loss is 1.5293523073196411 and Accuracy is: 87.135\n",
            "Epoch is: 22, Loss is 1.5772207975387573 and Accuracy is: 87.09833333333333\n",
            "Epoch is: 23, Loss is 1.5764271020889282 and Accuracy is: 87.16\n",
            "Epoch is: 24, Loss is 1.5776656866073608 and Accuracy is: 87.21333333333334\n",
            "Epoch is: 25, Loss is 1.5333149433135986 and Accuracy is: 87.28\n",
            "Epoch is: 26, Loss is 1.6230206489562988 and Accuracy is: 87.54333333333334\n",
            "Epoch is: 27, Loss is 1.5931674242019653 and Accuracy is: 87.41666666666667\n",
            "Epoch is: 28, Loss is 1.576006293296814 and Accuracy is: 87.53333333333333\n",
            "Epoch is: 29, Loss is 1.5983331203460693 and Accuracy is: 87.58333333333333\n",
            "Epoch is: 30, Loss is 1.5609612464904785 and Accuracy is: 87.51\n",
            "Epoch is: 31, Loss is 1.6171928644180298 and Accuracy is: 87.805\n",
            "Epoch is: 32, Loss is 1.626985788345337 and Accuracy is: 87.685\n",
            "Epoch is: 33, Loss is 1.5448908805847168 and Accuracy is: 87.68333333333334\n",
            "Epoch is: 34, Loss is 1.6319067478179932 and Accuracy is: 87.865\n",
            "Epoch is: 35, Loss is 1.515750527381897 and Accuracy is: 87.96333333333334\n",
            "Epoch is: 36, Loss is 1.5749591588974 and Accuracy is: 87.75333333333333\n",
            "Epoch is: 37, Loss is 1.6019277572631836 and Accuracy is: 87.90166666666667\n",
            "Epoch is: 38, Loss is 1.5958305597305298 and Accuracy is: 87.78166666666667\n",
            "Epoch is: 39, Loss is 1.6209559440612793 and Accuracy is: 87.95666666666666\n",
            "Epoch is: 40, Loss is 1.5821287631988525 and Accuracy is: 87.90166666666667\n",
            "Finished Training\n"
          ]
        }
      ]
    },
    {
      "cell_type": "code",
      "source": [
        "for name, param in model_2.named_parameters():\n",
        "  print(name)"
      ],
      "metadata": {
        "colab": {
          "base_uri": "https://localhost:8080/"
        },
        "id": "sETRHlZx1u0m",
        "outputId": "f401ce16-f5ad-4855-a945-25093097cf5b"
      },
      "execution_count": 95,
      "outputs": [
        {
          "output_type": "stream",
          "name": "stdout",
          "text": [
            "hidden.weight\n",
            "hidden.bias\n",
            "output.weight\n",
            "output.bias\n"
          ]
        }
      ]
    },
    {
      "cell_type": "markdown",
      "source": [
        "Producing histogram of weights for the input layer for network 2\n"
      ],
      "metadata": {
        "id": "ERRbZ7-j2Okm"
      }
    },
    {
      "cell_type": "code",
      "source": [
        "w_input = []\n",
        "w_hidden = []\n",
        "for name, param in model_2.named_parameters():\n",
        "  # Weights for input layer\n",
        "  if name==\"hidden.weight\":\n",
        "    w_input.append(param.view(-1).detach().numpy())\n",
        "  # Weights for hidden layer\n",
        "  if name==\"output.weight\":\n",
        "    w_hidden.append(param.view(-1).detach().numpy())\n",
        "\n",
        "#Weights of Input Layer\n",
        "plt.hist(w_input)\n",
        "plt.title('Histogram of Weights for the Input Layer of network 2')\n",
        "plt.ylabel('frequency')\n",
        "plt.xlabel('weight value')\n",
        "plt.show()"
      ],
      "metadata": {
        "colab": {
          "base_uri": "https://localhost:8080/",
          "height": 295
        },
        "id": "6jG3S5Ir1naS",
        "outputId": "5c7e5b17-281a-4396-f100-6d1fdbffaafd"
      },
      "execution_count": 158,
      "outputs": [
        {
          "output_type": "display_data",
          "data": {
            "text/plain": [
              "<Figure size 432x288 with 1 Axes>"
            ],
            "image/png": "[encoded data removed]"
          },
          "metadata": {
            "needs_background": "light"
          }
        }
      ]
    },
    {
      "cell_type": "markdown",
      "source": [
        "Producing histogram of weights for the hidden layer for network 2\n"
      ],
      "metadata": {
        "id": "m7uXLZ6C2Ffz"
      }
    },
    {
      "cell_type": "code",
      "source": [
        "plt.hist(w_hidden)\n",
        "plt.title('Histogram of Weights for the hidden Layer of network 2')\n",
        "plt.ylabel('frequency')\n",
        "plt.xlabel('weight value')\n",
        "plt.show()"
      ],
      "metadata": {
        "colab": {
          "base_uri": "https://localhost:8080/",
          "height": 295
        },
        "id": "yRvxQwgH2E_k",
        "outputId": "3f782d20-b194-4609-dbbb-9f4468fc3a24"
      },
      "execution_count": 159,
      "outputs": [
        {
          "output_type": "display_data",
          "data": {
            "text/plain": [
              "<Figure size 432x288 with 1 Axes>"
            ],
            "image/png": "[encoded data removed]"
          },
          "metadata": {
            "needs_background": "light"
          }
        }
      ]
    },
    {
      "cell_type": "markdown",
      "source": [
        "The differences between these histograms of two networks is that, for the second network, the magnitude of weights are reduced and they are more evenly spread due to regularization and dropout"
      ],
      "metadata": {
        "id": "Sze42pbn23s0"
      }
    }
  ]
}